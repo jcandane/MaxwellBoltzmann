{
  "cells": [
    {
      "cell_type": "markdown",
      "metadata": {
        "id": "view-in-github",
        "colab_type": "text"
      },
      "source": [
        "<a href=\"https://colab.research.google.com/github/jcandane/MaxwellBoltzmann/blob/main/MaxwellBoltzmann.ipynb\" target=\"_parent\"><img src=\"https://colab.research.google.com/assets/colab-badge.svg\" alt=\"Open In Colab\"/></a>"
      ]
    },
    {
      "cell_type": "markdown",
      "metadata": {
        "id": "SVysZDHiS-a2"
      },
      "source": [
        "# Maxwell-Boltzmann Distribution"
      ]
    },
    {
      "cell_type": "markdown",
      "metadata": {
        "id": "GZQkIePpS-a4"
      },
      "source": [
        "Here we need to sample the Maxwell-Distribution which gives the equalibrium speed distribution:\n",
        "\n",
        "$P_\\text{Maxwell-Boltzmann} = \\left( \\frac{2}{\\pi} \\right)^{1/2} \\left( \\frac{2}{v^2_\\text{peak}} \\right)^{3/2} v^2 \\exp{\\left( - \\frac{v^2}{v^2_\\text{peak}} \\right)}$ </br>\n",
        "$ v_\\text{peak} = \\left( \\frac{2kT}{m} \\right)^{1/2} $"
      ]
    },
    {
      "cell_type": "markdown",
      "metadata": {
        "id": "PcR_iwxaS-a4"
      },
      "source": [
        "Lets begin by importing the standard python libraries:"
      ]
    },
    {
      "cell_type": "code",
      "execution_count": 1,
      "metadata": {
        "id": "0jzIuXaZS-a5"
      },
      "outputs": [],
      "source": [
        "import numpy as np\n",
        "import matplotlib.pyplot as plt"
      ]
    },
    {
      "cell_type": "markdown",
      "metadata": {
        "id": "bGb4AzQpS-a6"
      },
      "source": [
        "### For each atom mass we have a new Maxwell-Boltzmann Distribution"
      ]
    },
    {
      "cell_type": "code",
      "execution_count": 2,
      "metadata": {
        "id": "vmB9jtvHS-a6"
      },
      "outputs": [],
      "source": [
        "v_peak   = 1\n",
        "counts   = 10\n",
        "\n",
        "domain  = np.linspace(0., 5*v_peak, 100)                                 ### Speed values\n",
        "samples = counts                                                      ### Number of Atoms of a certain Mass type\n",
        "PDF     = (2/np.pi)**(0.5) * (2/v_peak**2)**(1.5) * domain**2 * np.exp( - domain**2 / v_peak**2  )  ### Maxwell-Boltzmann PDF for given: Mass & Temperature\n",
        "PDF    *= 1/(np.sum(PDF))                                                                           ### Normalize to 1 for the specified range\n",
        "speeds  = np.random.choice(domain, samples, p=PDF)"
      ]
    },
    {
      "cell_type": "markdown",
      "metadata": {
        "id": "Jht400OQS-a6"
      },
      "source": [
        "### First we get unquie masses array"
      ]
    },
    {
      "cell_type": "markdown",
      "metadata": {
        "id": "f9iScQvKS-a7"
      },
      "source": [
        "#### We use np.unique( ), to sample an arbtiary discreted Probability Distribution/Density Function (PDF). In this case the PDF is the Maxwell-Boltzmann function given above for speed $v$\n",
        "\n",
        "unique_masses: gives an array of unique masses </br>\n",
        "indices:       gives the index of original array, such that unique_masses[indices] = is the original array. </br>\n",
        "counts:        gives the count for each of the unique masses."
      ]
    },
    {
      "cell_type": "code",
      "execution_count": 3,
      "metadata": {
        "id": "K5Honcp8S-a7"
      },
      "outputs": [],
      "source": [
        "mass = np.array([1582, 1582, 21511, 18654, 1582, 21511, 1582])\n",
        "unique_masses, indices, counts = np.unique(mass, return_inverse=True, return_counts=True)"
      ]
    },
    {
      "cell_type": "code",
      "execution_count": 4,
      "metadata": {
        "id": "prJY4-eIS-a8"
      },
      "outputs": [],
      "source": [
        "Temperature = 10\n",
        "unique_masses, counts = np.unique(mass, return_counts=True)"
      ]
    },
    {
      "cell_type": "code",
      "execution_count": 5,
      "metadata": {
        "id": "IWD41BD7S-a8"
      },
      "outputs": [],
      "source": [
        "speed_i = np.zeros(len(mass))\n",
        "for i, masstype in enumerate(unique_masses):\n",
        "    v_peak = np.sqrt( 2*Temperature / masstype )\n",
        "\n",
        "    domain  = np.linspace(0., 5.*v_peak, 100)                                                           ### Speed values                                            \n",
        "    PDF     = (2/np.pi)**(0.5) * (2/v_peak**2)**(1.5) * domain**2 * np.exp( - domain**2 / v_peak**2  )  ### Maxwell-Boltzmann PDF for given: Mass & Temperature\n",
        "    PDF    *= 1/(np.sum(PDF))                                                                           ### Normalize to 1 for the specified range\n",
        "    \n",
        "    speeds     = np.random.choice(domain, counts[i], p=PDF)                                             ### counts[i] = Number of Atoms of a certain Mass type i\n",
        "    j          = np.where(indices == i)[0]\n",
        "    speed_i[j] = speeds"
      ]
    },
    {
      "cell_type": "code",
      "execution_count": 6,
      "metadata": {
        "colab": {
          "base_uri": "https://localhost:8080/"
        },
        "id": "VoPPoTY7S-a9",
        "outputId": "07acaab7-6f6e-4878-a071-e54b4521e296"
      },
      "outputs": [
        {
          "output_type": "execute_result",
          "data": {
            "text/plain": [
              "array([0.09653738, 0.1476454 , 0.03387991, 0.02149845, 0.06814403,\n",
              "       0.05543985, 0.11925205])"
            ]
          },
          "metadata": {},
          "execution_count": 6
        }
      ],
      "source": [
        "speed_i"
      ]
    },
    {
      "cell_type": "markdown",
      "metadata": {
        "id": "uDnpnS_WS-a9"
      },
      "source": [
        "Lets now package this idea into a function. While introducing a random sample of two angular directions."
      ]
    },
    {
      "cell_type": "code",
      "execution_count": 7,
      "metadata": {
        "id": "8m8S5OEwS-a-"
      },
      "outputs": [],
      "source": [
        "def au_temperature(x): ### given Temperature in Kelvin\n",
        "    return x/315774.64\n",
        "\n",
        "def MaxwellBoltzmann(Mass, Temperature):\n",
        "    \"\"\" Get Maxwell-Boltzmann 3D velocities given: Mass (1D np.array, in a.u.) and Temperature (np.float, in Kelvin) \"\"\"\n",
        "    Temperature = au_temperature(Temperature)\n",
        "    \n",
        "    unique_masses, indices, counts = np.unique(Mass, return_inverse=True, return_counts=True)\n",
        "    \n",
        "    θ = np.random.random_sample(len(Mass))*(np.pi)\n",
        "    φ = np.random.random_sample(len(Mass))*(2.*np.pi)\n",
        "\n",
        "    if Temperature == 0:\n",
        "        return np.zeros((len(Mass),3))\n",
        "    \n",
        "    else:\n",
        "        speed_i = np.zeros(len(Mass))\n",
        "        for i, masstype in enumerate(unique_masses):\n",
        "            v_peak = np.sqrt( 2*Temperature / masstype )\n",
        "\n",
        "            domain  = np.linspace(0., 5.*v_peak, 100)                                                           ### Speed values                                            \n",
        "            PDF     = (2/np.pi)**(0.5) * (2/v_peak**2)**(1.5) * domain**2 * np.exp( - domain**2 / v_peak**2  )  ### Maxwell-Boltzmann PDF for given: Mass & Temperature\n",
        "            PDF    *= 1/(np.sum(PDF))                                                                           ### Normalize to 1 for the specified range\n",
        "\n",
        "            speeds     = np.random.choice(domain, counts[i], p=PDF)                                             ### counts[i] = Number of Atoms of a certain Mass type i\n",
        "            j          = np.where(indices == i)[0]\n",
        "            speed_i[j] = speeds\n",
        "\n",
        "        vx = speed_i*np.sin(θ)*np.cos(φ)\n",
        "        vy = speed_i*np.sin(θ)*np.sin(φ)\n",
        "        vz = speed_i*np.cos(θ)\n",
        "            \n",
        "        return np.asarray([vx, vy, vz]).T"
      ]
    },
    {
      "cell_type": "code",
      "execution_count": 8,
      "metadata": {
        "colab": {
          "base_uri": "https://localhost:8080/"
        },
        "id": "jugw0bZNS-a-",
        "outputId": "f04f1fc2-0921-44d8-baae-45e2a64008b7"
      },
      "outputs": [
        {
          "output_type": "execute_result",
          "data": {
            "text/plain": [
              "(7, 3)"
            ]
          },
          "metadata": {},
          "execution_count": 8
        }
      ],
      "source": [
        "mass = np.array([1582, 1582, 21511, 18654, 1582, 21511, 1582])\n",
        "MaxwellBoltzmann(mass, 1.).shape"
      ]
    },
    {
      "cell_type": "markdown",
      "metadata": {
        "id": "QgGOZfxES-a_"
      },
      "source": [
        "### Now if all masses are the same, we have..."
      ]
    },
    {
      "cell_type": "code",
      "execution_count": 9,
      "metadata": {
        "colab": {
          "base_uri": "https://localhost:8080/",
          "height": 295
        },
        "id": "uJODIOs_S-a_",
        "outputId": "bedd5764-cdb2-4a45-da92-e50d18f20903"
      },
      "outputs": [
        {
          "output_type": "display_data",
          "data": {
            "text/plain": [
              "<Figure size 432x288 with 1 Axes>"
            ],
            "image/png": "[encoded data removed]"
          },
          "metadata": {
            "needs_background": "light"
          }
        }
      ],
      "source": [
        "number_of_atoms = 450020\n",
        "Temp            = 10\n",
        "M               = 1755\n",
        "\n",
        "mass = M*np.ones(number_of_atoms)\n",
        "x    = np.sqrt(np.einsum(\"ix -> i\", MaxwellBoltzmann(mass, Temp)**2 ))\n",
        "\n",
        "num_bins = 80\n",
        "n, bins, patches = plt.hist(x, num_bins, facecolor='blue', alpha=0.5) #, density=True, stacked=True)\n",
        "\n",
        "v_peak  = np.sqrt( 2*au_temperature(Temp) / mass[0] )                                            \n",
        "PDF     = (2/np.pi)**(0.5) * (2/v_peak**2)**(1.5) * bins**2 * np.exp( - bins**2 / v_peak**2  )  ### Maxwell-Boltzmann PDF for given: Mass & Temperature\n",
        "PDF    *= 1/(np.sum(PDF)) \n",
        "PDF    *= number_of_atoms\n",
        "\n",
        "\n",
        "plt.plot(bins, PDF, 'r--', label=\"Analytical Maxwell-Boltzmann\")\n",
        "plt.title(\"Comparison of Analytical and Sampled Maxwell-Boltzmann\")\n",
        "plt.xlabel(\"Speed (a.u.)\")\n",
        "plt.ylabel(\"Count\")\n",
        "plt.legend()\n",
        "plt.show()"
      ]
    },
    {
      "cell_type": "code",
      "execution_count": 10,
      "metadata": {
        "colab": {
          "base_uri": "https://localhost:8080/"
        },
        "id": "DPRFfuGDS-a_",
        "outputId": "6ecc38a3-9ed8-4f9b-c6f6-afd5d1758571"
      },
      "outputs": [
        {
          "output_type": "stream",
          "name": "stdout",
          "text": [
            "Cloning into 'pyprototyp'...\n",
            "remote: Enumerating objects: 29, done.\u001b[K\n",
            "remote: Counting objects: 100% (29/29), done.\u001b[K\n",
            "remote: Compressing objects: 100% (26/26), done.\u001b[K\n",
            "remote: Total 29 (delta 5), reused 0 (delta 0), pack-reused 0\u001b[K\n",
            "Unpacking objects: 100% (29/29), done.\n"
          ]
        }
      ],
      "source": [
        "!git clone https://github.com/jcandane/pyprototyp\n",
        "from pyprototyp.pyprototyp import pyprototyp\n",
        "pyprototyp(\"MaxwellBoltzmann\", packages=[], useful=[], defs=[au_temperature, MaxwellBoltzmann], classes=[])"
      ]
    }
  ],
  "metadata": {
    "kernelspec": {
      "display_name": "Python 3",
      "language": "python",
      "name": "python3"
    },
    "language_info": {
      "codemirror_mode": {
        "name": "ipython",
        "version": 3
      },
      "file_extension": ".py",
      "mimetype": "text/x-python",
      "name": "python",
      "nbconvert_exporter": "python",
      "pygments_lexer": "ipython3",
      "version": "3.7.7"
    },
    "colab": {
      "name": "MaxwellBoltzmann.ipynb",
      "provenance": [],
      "collapsed_sections": [],
      "include_colab_link": true
    }
  },
  "nbformat": 4,
  "nbformat_minor": 0
}