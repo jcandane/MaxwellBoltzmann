{
 "cells": [
  {
   "cell_type": "markdown",
   "metadata": {},
   "source": [
    "# Maxwell-Boltzmann Distribution"
   ]
  },
  {
   "cell_type": "markdown",
   "metadata": {},
   "source": [
    "Here we need to sample the Maxwell-Distribution which gives the equalibrium speed distribution:\n",
    "\n",
    "$P_\\text{Maxwell-Boltzmann} = \\left( \\frac{2}{\\pi} \\right)^{1/2} \\left( \\frac{2}{v^2_\\text{peak}} \\right)^{3/2} v^2 \\exp{\\left( - \\frac{v^2}{v^2_\\text{peak}} \\right)}$ </br>\n",
    "$ v_\\text{peak} = \\left( \\frac{2kT}{m} \\right)^{1/2} $"
   ]
  },
  {
   "cell_type": "markdown",
   "metadata": {},
   "source": [
    "Lets begin by importing the standard python libraries:"
   ]
  },
  {
   "cell_type": "code",
   "execution_count": 1,
   "metadata": {},
   "outputs": [],
   "source": [
    "import numpy as np\n",
    "import matplotlib.pyplot as plt"
   ]
  },
  {
   "cell_type": "markdown",
   "metadata": {},
   "source": [
    "### For each atom mass we have a new Maxwell-Boltzmann Distribution"
   ]
  },
  {
   "cell_type": "code",
   "execution_count": 3,
   "metadata": {},
   "outputs": [],
   "source": [
    "v_peak   = 1\n",
    "counts   = 10\n",
    "\n",
    "domain  = np.linspace(0., 5*v_peak, 100)                                 ### Speed values\n",
    "samples = counts                                                      ### Number of Atoms of a certain Mass type\n",
    "PDF     = (2/np.pi)**(0.5) * (2/v_peak**2)**(1.5) * domain**2 * np.exp( - domain**2 / v_peak**2  )  ### Maxwell-Boltzmann PDF for given: Mass & Temperature\n",
    "PDF    *= 1/(np.sum(PDF))                                                                           ### Normalize to 1 for the specified range\n",
    "speeds  = np.random.choice(domain, samples, p=PDF)"
   ]
  },
  {
   "cell_type": "markdown",
   "metadata": {},
   "source": [
    "### First we get unquie masses array"
   ]
  },
  {
   "cell_type": "markdown",
   "metadata": {},
   "source": [
    "#### We use np.unique( ), to sample an arbtiary discreted Probability Distribution/Density Function (PDF). In this case the PDF is the Maxwell-Boltzmann function given above for speed $v$\n",
    "\n",
    "unique_masses: gives an array of unique masses </br>\n",
    "indices:       gives the index of original array, such that unique_masses[indices] = is the original array. </br>\n",
    "counts:        gives the count for each of the unique masses."
   ]
  },
  {
   "cell_type": "code",
   "execution_count": 4,
   "metadata": {},
   "outputs": [],
   "source": [
    "mass = np.array([1582, 1582, 21511, 18654, 1582, 21511, 1582])\n",
    "unique_masses, indices, counts = np.unique(mass, return_inverse=True, return_counts=True)"
   ]
  },
  {
   "cell_type": "code",
   "execution_count": 5,
   "metadata": {},
   "outputs": [],
   "source": [
    "Temperature = 10\n",
    "unique_masses, counts = np.unique(mass, return_counts=True)"
   ]
  },
  {
   "cell_type": "code",
   "execution_count": 6,
   "metadata": {},
   "outputs": [],
   "source": [
    "speed_i = np.zeros(len(mass))\n",
    "for i, masstype in enumerate(unique_masses):\n",
    "    v_peak = np.sqrt( 2*Temperature / masstype )\n",
    "\n",
    "    domain  = np.linspace(0., 5.*v_peak, 100)                                                           ### Speed values                                            \n",
    "    PDF     = (2/np.pi)**(0.5) * (2/v_peak**2)**(1.5) * domain**2 * np.exp( - domain**2 / v_peak**2  )  ### Maxwell-Boltzmann PDF for given: Mass & Temperature\n",
    "    PDF    *= 1/(np.sum(PDF))                                                                           ### Normalize to 1 for the specified range\n",
    "    \n",
    "    speeds     = np.random.choice(domain, counts[i], p=PDF)                                             ### counts[i] = Number of Atoms of a certain Mass type i\n",
    "    j          = np.where(indices == i)[0]\n",
    "    speed_i[j] = speeds"
   ]
  },
  {
   "cell_type": "code",
   "execution_count": 7,
   "metadata": {},
   "outputs": [
    {
     "data": {
      "text/plain": [
       "array([0.11925205, 0.10221605, 0.02309994, 0.06284163, 0.15332407,\n",
       "       0.02001994, 0.04542935])"
      ]
     },
     "execution_count": 7,
     "metadata": {},
     "output_type": "execute_result"
    }
   ],
   "source": [
    "speed_i"
   ]
  },
  {
   "cell_type": "markdown",
   "metadata": {},
   "source": [
    "Lets now package this idea into a function. While introducing a random sample of two angular directions."
   ]
  },
  {
   "cell_type": "code",
   "execution_count": 8,
   "metadata": {},
   "outputs": [],
   "source": [
    "def MaxwellBoltzmann(Mass, Temperature):\n",
    "    \"\"\" Get Maxwell-Boltzmann 3D velocities given: Mass (1D np.array) and Temperature (np.float) \"\"\"\n",
    "    \n",
    "    unique_masses, indices, counts = np.unique(mass, return_inverse=True, return_counts=True)\n",
    "    \n",
    "    θ = np.random.random_sample(len(Mass))*(np.pi)\n",
    "    φ = np.random.random_sample(len(Mass))*(2.*np.pi)\n",
    "\n",
    "    if Temperature == 0:\n",
    "        return np.zeros((len(Mass),3))\n",
    "    \n",
    "    else:\n",
    "        speed_i = np.zeros(len(Mass))\n",
    "        for i, masstype in enumerate(unique_masses):\n",
    "            v_peak = np.sqrt( 2*Temperature / masstype )\n",
    "\n",
    "            domain  = np.linspace(0., 5.*v_peak, 100)                                                           ### Speed values                                            \n",
    "            PDF     = (2/np.pi)**(0.5) * (2/v_peak**2)**(1.5) * domain**2 * np.exp( - domain**2 / v_peak**2  )  ### Maxwell-Boltzmann PDF for given: Mass & Temperature\n",
    "            PDF    *= 1/(np.sum(PDF))                                                                           ### Normalize to 1 for the specified range\n",
    "\n",
    "            speeds     = np.random.choice(domain, counts[i], p=PDF)                                             ### counts[i] = Number of Atoms of a certain Mass type i\n",
    "            j          = np.where(indices == i)[0]\n",
    "            speed_i[j] = speeds\n",
    "\n",
    "        vx = speed_i*np.sin(θ)*np.cos(φ)\n",
    "        vy = speed_i*np.sin(θ)*np.sin(φ)\n",
    "        vz = speed_i*np.cos(θ)\n",
    "            \n",
    "        return np.asarray([vx, vy, vz]).T"
   ]
  },
  {
   "cell_type": "code",
   "execution_count": 9,
   "metadata": {},
   "outputs": [
    {
     "data": {
      "text/plain": [
       "array([[-0.01399897, -0.01354567,  0.00327658],\n",
       "       [-0.03668971,  0.0382802 ,  0.04003928],\n",
       "       [-0.006843  , -0.00719169,  0.00785954],\n",
       "       [ 0.00265635, -0.00314098, -0.00322896],\n",
       "       [ 0.00587917, -0.04733404,  0.01590946],\n",
       "       [-0.00391075,  0.00668152, -0.00088086],\n",
       "       [-0.04218093, -0.01495712, -0.026628  ]])"
      ]
     },
     "execution_count": 9,
     "metadata": {},
     "output_type": "execute_result"
    }
   ],
   "source": [
    "mass = np.array([1582, 1582, 21511, 18654, 1582, 21511, 1582])\n",
    "MaxwellBoltzmann(mass, 1.)"
   ]
  },
  {
   "cell_type": "markdown",
   "metadata": {},
   "source": [
    "### Now if all masses are the same, we have..."
   ]
  },
  {
   "cell_type": "code",
   "execution_count": 14,
   "metadata": {},
   "outputs": [
    {
     "data": {
      "image/png": "[encoded data removed]",
      "text/plain": [
       "<Figure size 432x288 with 1 Axes>"
      ]
     },
     "metadata": {
      "needs_background": "light"
     },
     "output_type": "display_data"
    }
   ],
   "source": [
    "number_of_atoms = 450020\n",
    "Temp            = 10\n",
    "M               = 1755\n",
    "\n",
    "mass = M*np.ones(number_of_atoms)\n",
    "x = np.sqrt(np.einsum(\"ix -> i\", MaxwellBoltzmann(mass, Temp)**2 ))\n",
    "\n",
    "num_bins = 80\n",
    "n, bins, patches = plt.hist(x, num_bins, facecolor='blue', alpha=0.5) #, density=True, stacked=True)\n",
    "\n",
    "v_peak = np.sqrt( 2*Temp / mass[0] )\n",
    "PDF     = (2/np.pi)**(0.5) * (2/v_peak**2)**(1.5) * bins**2 * np.exp( - bins**2 / v_peak**2  )  ### Maxwell-Boltzmann PDF for given: Mass & Temperature\n",
    "PDF    *= 1/(np.sum(PDF))\n",
    "PDF    *= number_of_atoms\n",
    "\n",
    "\n",
    "plt.plot(bins, PDF, 'r--', label=\"Analytical Maxwell-Boltzmann\")\n",
    "plt.title(\"Comparison of Analytical and Sampled Maxwell-Boltzmann\")\n",
    "plt.xlabel(\"Speed (a.u.)\")\n",
    "plt.ylabel(\"Count\")\n",
    "plt.legend()\n",
    "plt.show()"
   ]
  },
  {
   "cell_type": "code",
   "execution_count": null,
   "metadata": {},
   "outputs": [],
   "source": []
  },
  {
   "cell_type": "code",
   "execution_count": null,
   "metadata": {},
   "outputs": [],
   "source": []
  }
 ],
 "metadata": {
  "kernelspec": {
   "display_name": "Python 3",
   "language": "python",
   "name": "python3"
  },
  "language_info": {
   "codemirror_mode": {
    "name": "ipython",
    "version": 3
   },
   "file_extension": ".py",
   "mimetype": "text/x-python",
   "name": "python",
   "nbconvert_exporter": "python",
   "pygments_lexer": "ipython3",
   "version": "3.7.7"
  }
 },
 "nbformat": 4,
 "nbformat_minor": 4
}
